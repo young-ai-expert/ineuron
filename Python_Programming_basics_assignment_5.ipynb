{
 "cells": [
  {
   "cell_type": "markdown",
   "metadata": {},
   "source": [
    "Python Program to Find LCM"
   ]
  },
  {
   "cell_type": "code",
   "execution_count": null,
   "metadata": {},
   "outputs": [],
   "source": [
    "n = int(input(\"Number of terms: \"))\n",
    "l = []\n",
    "num = []\n",
    "lcm = []\n",
    "\n",
    "for i in range(n):\n",
    "    a = int(input(\"Number : \"))\n",
    "    l.append(a)\n",
    "print(\"The numbers are : \",l)\n",
    "    \n",
    "\n",
    "for j in range(2,max(l)):\n",
    "    for k in l:\n",
    "        if str(k/j).endswith('.0'):\n",
    "            num.append(j)\n",
    "            \n",
    "for i in num:\n",
    "    if num[:3].count() == 3:\n",
    "        lcm.append(num[0])"
   ]
  },
  {
   "cell_type": "code",
   "execution_count": 8,
   "metadata": {},
   "outputs": [
    {
     "name": "stdout",
     "output_type": "stream",
     "text": [
      "True\n",
      "True\n",
      "True\n",
      "False\n",
      "False\n",
      "True\n",
      "True\n",
      "True\n",
      "False\n",
      "False\n",
      "True\n",
      "True\n",
      "True\n",
      "False\n",
      "False\n",
      "False\n",
      "False\n",
      "False\n",
      "True\n",
      "False\n",
      "False\n",
      "False\n",
      "False\n",
      "False\n",
      "True\n"
     ]
    }
   ],
   "source": [
    "l = [2,2,2,3,4]\n",
    "\n",
    "for i in l:\n",
    "    for j in l:\n",
    "        if i == j:\n",
    "            print(True)\n",
    "        else:\n",
    "            print(False)"
   ]
  },
  {
   "cell_type": "markdown",
   "metadata": {},
   "source": [
    "Python Program to Find HCF?"
   ]
  },
  {
   "cell_type": "code",
   "execution_count": 1,
   "metadata": {},
   "outputs": [],
   "source": [
    "import statistics\n",
    "from statistics import mode"
   ]
  },
  {
   "cell_type": "code",
   "execution_count": 2,
   "metadata": {},
   "outputs": [
    {
     "name": "stdout",
     "output_type": "stream",
     "text": [
      "Number of terms: 2\n",
      "Number: 40\n",
      "Number: 60\n",
      "HCF is  20\n"
     ]
    }
   ],
   "source": [
    "n = int(input('Number of terms: '))\n",
    "terms = []\n",
    "factor = []\n",
    "modes = []\n",
    "\n",
    "for i in range(n):\n",
    "    a = int(input('Number: '))\n",
    "    terms.append(a)\n",
    "    \n",
    "# finding factors\n",
    "\n",
    "for i in range(n):\n",
    "    for j in range(1,terms[i]+1):\n",
    "        for k in range(1,terms[i]+1):\n",
    "            \n",
    "            if k*j == terms[i]:\n",
    "                factor.append(k)\n",
    "                factor.append(j)\n",
    "                \n",
    "while True:\n",
    "    modes.append(mode(factor))\n",
    "    for i in range(len(modes)):\n",
    "        for j in factor:\n",
    "            if modes[i] == j:\n",
    "                factor.remove(modes[i])\n",
    "    \n",
    "    if i == 3:\n",
    "        break\n",
    "    \n",
    "print('HCF is ',max(modes))"
   ]
  },
  {
   "cell_type": "markdown",
   "metadata": {},
   "source": [
    "Python Program to Convert Decimal to Binary, Octal and Hexadecimal?"
   ]
  },
  {
   "cell_type": "code",
   "execution_count": 19,
   "metadata": {},
   "outputs": [],
   "source": [
    "def decToBin(x):\n",
    "    return(bin(round(x)))\n",
    "\n",
    "def octToHex(x):\n",
    "    return hex(x)"
   ]
  },
  {
   "cell_type": "code",
   "execution_count": 20,
   "metadata": {},
   "outputs": [
    {
     "data": {
      "text/plain": [
       "'0b100010'"
      ]
     },
     "execution_count": 20,
     "metadata": {},
     "output_type": "execute_result"
    }
   ],
   "source": [
    "decToBin(34)"
   ]
  },
  {
   "cell_type": "code",
   "execution_count": 21,
   "metadata": {},
   "outputs": [
    {
     "data": {
      "text/plain": [
       "'0x1'"
      ]
     },
     "execution_count": 21,
     "metadata": {},
     "output_type": "execute_result"
    }
   ],
   "source": [
    "octToHex(1)"
   ]
  },
  {
   "cell_type": "markdown",
   "metadata": {},
   "source": [
    "Python Program To Find ASCII value of a character"
   ]
  },
  {
   "cell_type": "code",
   "execution_count": 20,
   "metadata": {},
   "outputs": [
    {
     "name": "stdout",
     "output_type": "stream",
     "text": [
      "Enter a character: v\n",
      "118\n"
     ]
    }
   ],
   "source": [
    "char = input('Enter a character: ')\n",
    "small = ['abcdefghijklmnopqrstuvwxyz']\n",
    "big = ['ABCDEFGHIJKLMNOPQRSTUVWXYZ']\n",
    "num = ['0123456789']\n",
    "\n",
    "if char.islower():\n",
    "    print(97+small[0].index(char))\n",
    "elif char.islower():\n",
    "    print(65+big[0].index(char))\n",
    "elif char.isdigit():\n",
    "    if int(char)>=0 and int(char) <= 9:\n",
    "        print(49+num[0].index(char))"
   ]
  },
  {
   "cell_type": "code",
   "execution_count": 10,
   "metadata": {},
   "outputs": [
    {
     "data": {
      "text/plain": [
       "0"
      ]
     },
     "execution_count": 10,
     "metadata": {},
     "output_type": "execute_result"
    }
   ],
   "source": [
    "small[0].index(char)"
   ]
  },
  {
   "cell_type": "markdown",
   "metadata": {},
   "source": [
    "Python Program to Make a Simple Calculator with 4 basic mathematical operations"
   ]
  },
  {
   "cell_type": "code",
   "execution_count": 4,
   "metadata": {},
   "outputs": [],
   "source": [
    "class Operations:\n",
    "    \n",
    "    def __init__(self):\n",
    "        print(\"Initialized\")\n",
    "        \n",
    "    def add(*args):\n",
    "        a = 0\n",
    "        for i in args:\n",
    "            a += i\n",
    "        return a\n",
    "    \n",
    "    def sub(a,b):\n",
    "        return a-b\n",
    "    \n",
    "    def mul(*args):\n",
    "        a = 1\n",
    "        for i in args:\n",
    "            a *= i\n",
    "        return a\n",
    "    \n",
    "    def div(a,b):\n",
    "        return a/b\n",
    "        \n",
    "        "
   ]
  },
  {
   "cell_type": "code",
   "execution_count": 5,
   "metadata": {},
   "outputs": [
    {
     "data": {
      "text/plain": [
       "21"
      ]
     },
     "execution_count": 5,
     "metadata": {},
     "output_type": "execute_result"
    }
   ],
   "source": [
    "Operations.add(2,3,4,5,6,1)"
   ]
  },
  {
   "cell_type": "code",
   "execution_count": 7,
   "metadata": {},
   "outputs": [
    {
     "data": {
      "text/plain": [
       "-1"
      ]
     },
     "execution_count": 7,
     "metadata": {},
     "output_type": "execute_result"
    }
   ],
   "source": [
    "Operations.sub(4,5)"
   ]
  },
  {
   "cell_type": "code",
   "execution_count": 8,
   "metadata": {},
   "outputs": [
    {
     "data": {
      "text/plain": [
       "360"
      ]
     },
     "execution_count": 8,
     "metadata": {},
     "output_type": "execute_result"
    }
   ],
   "source": [
    "Operations.mul(3,4,5,6)"
   ]
  },
  {
   "cell_type": "code",
   "execution_count": 9,
   "metadata": {},
   "outputs": [
    {
     "data": {
      "text/plain": [
       "2.0"
      ]
     },
     "execution_count": 9,
     "metadata": {},
     "output_type": "execute_result"
    }
   ],
   "source": [
    "Operations.div(8,4)"
   ]
  },
  {
   "cell_type": "code",
   "execution_count": null,
   "metadata": {},
   "outputs": [],
   "source": []
  }
 ],
 "metadata": {
  "kernelspec": {
   "display_name": "Python 3",
   "language": "python",
   "name": "python3"
  },
  "language_info": {
   "codemirror_mode": {
    "name": "ipython",
    "version": 3
   },
   "file_extension": ".py",
   "mimetype": "text/x-python",
   "name": "python",
   "nbconvert_exporter": "python",
   "pygments_lexer": "ipython3",
   "version": "3.8.5"
  }
 },
 "nbformat": 4,
 "nbformat_minor": 4
}
