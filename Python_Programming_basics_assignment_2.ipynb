{
 "cells": [
  {
   "cell_type": "markdown",
   "metadata": {},
   "source": [
    "Python program to convert kilometers to miles?"
   ]
  },
  {
   "cell_type": "code",
   "execution_count": 2,
   "metadata": {},
   "outputs": [
    {
     "name": "stdout",
     "output_type": "stream",
     "text": [
      "Enter the value: 45\n",
      "Miles is:  27.97\n"
     ]
    }
   ],
   "source": [
    "km = float(input(\"Enter the value: \"))\n",
    "\n",
    "miles = round(km/1.609,2)\n",
    "\n",
    "print(\"Miles is: \",miles )"
   ]
  },
  {
   "cell_type": "markdown",
   "metadata": {},
   "source": [
    "Python program to convert Celsius to Fahrenheit?"
   ]
  },
  {
   "cell_type": "code",
   "execution_count": 4,
   "metadata": {},
   "outputs": [
    {
     "name": "stdout",
     "output_type": "stream",
     "text": [
      "Enter the degree: 0\n",
      "Fahernheit value is :  32.0 °F\n"
     ]
    }
   ],
   "source": [
    "cel = int(input(\"Enter the degree: \"))\n",
    "\n",
    "fahr = (cel * 9/5) + 32\n",
    "\n",
    "print(\"Fahernheit value is : \",fahr , \"°F\")\n"
   ]
  },
  {
   "cell_type": "markdown",
   "metadata": {},
   "source": [
    "Python program to display calendar?"
   ]
  },
  {
   "cell_type": "code",
   "execution_count": 8,
   "metadata": {},
   "outputs": [
    {
     "name": "stdout",
     "output_type": "stream",
     "text": [
      "Month please: 5\n",
      "Year please: 2007\n",
      "      May 2007\n",
      "Mo Tu We Th Fr Sa Su\n",
      "    1  2  3  4  5  6\n",
      " 7  8  9 10 11 12 13\n",
      "14 15 16 17 18 19 20\n",
      "21 22 23 24 25 26 27\n",
      "28 29 30 31\n",
      "\n"
     ]
    }
   ],
   "source": [
    "import calendar\n",
    "\n",
    "mm = int(input(\"Month please: \"))\n",
    "yy = int(input(\"Year please: \"))\n",
    "\n",
    "print(calendar.month(yy,mm))"
   ]
  },
  {
   "cell_type": "markdown",
   "metadata": {},
   "source": [
    "Python program to solve quadratic equation?"
   ]
  },
  {
   "cell_type": "code",
   "execution_count": 44,
   "metadata": {},
   "outputs": [
    {
     "name": "stdout",
     "output_type": "stream",
     "text": [
      "Enter the equation: x^2+6x+8\n",
      "Roots are - 2 - 4\n"
     ]
    }
   ],
   "source": [
    "n = input(\"Enter the equation: \").split('+')\n",
    "\n",
    "value = 0\n",
    "if n[0][0] in 'abcdefghijklmnopqrstuvwxyz':\n",
    "    value += 1\n",
    "else:\n",
    "    value += int(n[0][0])\n",
    "    \n",
    "    \n",
    "ac = value*int(n[2])\n",
    "b = int(n[1][0])\n",
    "\n",
    "for i in range(1,ac+1):\n",
    "    for j in range(1,ac+1):\n",
    "        summ = i+j\n",
    "        product = i*j\n",
    "        if summ == b and product == ac:\n",
    "            a = i\n",
    "            b = j\n",
    "\n",
    "if a > 0 and b> 0:\n",
    "    print(\"Roots are -\",a,'-',b)\n",
    "else:\n",
    "    print(\"Roots are +\",a,'+',b)"
   ]
  },
  {
   "cell_type": "markdown",
   "metadata": {},
   "source": [
    "Python program to swap two variables without temp variable?"
   ]
  },
  {
   "cell_type": "code",
   "execution_count": 10,
   "metadata": {},
   "outputs": [
    {
     "name": "stdout",
     "output_type": "stream",
     "text": [
      "8 3\n"
     ]
    }
   ],
   "source": [
    "a,b = 3,8\n",
    "\n",
    "a,b = b,a\n",
    "\n",
    "print(a,b)"
   ]
  },
  {
   "cell_type": "markdown",
   "metadata": {},
   "source": [
    "# rough work"
   ]
  },
  {
   "cell_type": "code",
   "execution_count": 31,
   "metadata": {},
   "outputs": [
    {
     "name": "stdout",
     "output_type": "stream",
     "text": [
      "Enter the equation: x^2+6x+8\n",
      "['x^2', '6x', '8']\n"
     ]
    }
   ],
   "source": [
    "n = input(\"Enter the equation: \").split('+')\n",
    "print(n)"
   ]
  },
  {
   "cell_type": "code",
   "execution_count": 17,
   "metadata": {},
   "outputs": [],
   "source": [
    "value = 0\n",
    "if n[0][0] in 'abcdefghijklmnopqrstuvwxyz':\n",
    "    value += 1\n",
    "else:\n",
    "    value += int(n[0][0])\n",
    "    "
   ]
  },
  {
   "cell_type": "code",
   "execution_count": 18,
   "metadata": {},
   "outputs": [
    {
     "data": {
      "text/plain": [
       "1"
      ]
     },
     "execution_count": 18,
     "metadata": {},
     "output_type": "execute_result"
    }
   ],
   "source": [
    "value"
   ]
  },
  {
   "cell_type": "code",
   "execution_count": 32,
   "metadata": {},
   "outputs": [],
   "source": [
    "ac = value*int(n[2])\n",
    "b = int(n[1][0])"
   ]
  },
  {
   "cell_type": "code",
   "execution_count": 33,
   "metadata": {},
   "outputs": [
    {
     "data": {
      "text/plain": [
       "(8, 6)"
      ]
     },
     "execution_count": 33,
     "metadata": {},
     "output_type": "execute_result"
    }
   ],
   "source": [
    "ac,b"
   ]
  },
  {
   "cell_type": "code",
   "execution_count": 34,
   "metadata": {},
   "outputs": [],
   "source": [
    "for i in range(1,ac+1):\n",
    "    for j in range(1,ac+1):\n",
    "        summ = i+j\n",
    "        product = i*j\n",
    "        if summ == b and product == ac:\n",
    "            a = i\n",
    "            b = j"
   ]
  },
  {
   "cell_type": "code",
   "execution_count": 36,
   "metadata": {},
   "outputs": [
    {
     "data": {
      "text/plain": [
       "2"
      ]
     },
     "execution_count": 36,
     "metadata": {},
     "output_type": "execute_result"
    }
   ],
   "source": [
    "int(10/5)"
   ]
  },
  {
   "cell_type": "code",
   "execution_count": 39,
   "metadata": {},
   "outputs": [
    {
     "name": "stdout",
     "output_type": "stream",
     "text": [
      "Roots are - 8.0 - 4\n"
     ]
    }
   ],
   "source": [
    "if a > 0 and b> 0:\n",
    "    print(\"Roots are -\",a,'-',b)\n",
    "else:\n",
    "    print(\"Roots are +\",a,'+',b)"
   ]
  },
  {
   "cell_type": "code",
   "execution_count": 40,
   "metadata": {},
   "outputs": [
    {
     "name": "stdout",
     "output_type": "stream",
     "text": [
      "Enter the equation: x^2+6x+8\n",
      "Roots are - 2 - 4\n"
     ]
    }
   ],
   "source": [
    "n = input(\"Enter the equation: \").split('+')\n",
    "\n",
    "value = 0\n",
    "if n[0][0] in 'abcdefghijklmnopqrstuvwxyz':\n",
    "    value += 1\n",
    "else:\n",
    "    value += int(n[0][0])\n",
    "    \n",
    "    \n",
    "ac = value*int(n[2])\n",
    "b = int(n[1][0])\n",
    "\n",
    "for i in range(1,ac+1):\n",
    "    for j in range(1,ac+1):\n",
    "        summ = i+j\n",
    "        product = i*j\n",
    "        if summ == b and product == ac:\n",
    "            a = i\n",
    "            b = j\n",
    "\n",
    "if a > 0 and b> 0:\n",
    "    print(\"Roots are -\",a,'-',b)\n",
    "else:\n",
    "    print(\"Roots are +\",a,'+',b)"
   ]
  },
  {
   "cell_type": "code",
   "execution_count": null,
   "metadata": {},
   "outputs": [],
   "source": [
    "n = input(\"Enter the equation: \").split('+')\n",
    "ac = int(n[0][0])*int(n[2])\n",
    "b = int(n[1][0])\n",
    "for i in range(1,ac+1):\n",
    "    for j in range(1,ac+1):\n",
    "        summ = i+j\n",
    "        product = i*j\n",
    "        if summ == b and product == ac:\n",
    "            if i//int(n[0][0]) == 0:\n",
    "                v = \"i,/,int(n[0][0])\"\n",
    "                x = \"j,/,int(n[0][0])\"\n",
    "                print('-',v,'-',x)\n",
    "            i = i//int(n[0][0])\n",
    "            j = j//int(n[0][0])\n",
    "            if i > 0 and j > 0:\n",
    "                print(\"Roots are -\",i,',-',j)\n",
    "                break\n",
    "            else:\n",
    "                print(\"roots are \",i,j)\n",
    "                break"
   ]
  }
 ],
 "metadata": {
  "kernelspec": {
   "display_name": "Python 3",
   "language": "python",
   "name": "python3"
  },
  "language_info": {
   "codemirror_mode": {
    "name": "ipython",
    "version": 3
   },
   "file_extension": ".py",
   "mimetype": "text/x-python",
   "name": "python",
   "nbconvert_exporter": "python",
   "pygments_lexer": "ipython3",
   "version": "3.8.5"
  }
 },
 "nbformat": 4,
 "nbformat_minor": 4
}
